{
 "cells": [
  {
   "cell_type": "markdown",
   "id": "8e6c6589-52e0-4196-84b9-e5c63a3b3c31",
   "metadata": {
    "jp-MarkdownHeadingCollapsed": true,
    "tags": []
   },
   "source": [
    "# Rules to Speed up Your Python Code\n",
    "- Decrease the use of `for loop`\n",
    "> this is the RULE NO.1.\n",
    "- Use the List Comprehensions\n",
    "> ```[i for i in range (1, 1000) if i%3 == 0]``` is faster than `for loop + append()` \n",
    "- Use the Built-In Functions\n",
    "> Such as ```map(), sum(), mean(), median(), max(), min()```\n",
    "- Function Calls Are Expensive\n",
    "> It is better to iterate inside a function than to iterate and call a function each iteration.\n",
    "- Use Numpy and Scipy\n",
    "> This is RULE NO.2. Search a solution in Numpy and Scipy first before you code it up.\n",
    "- Avoid Lazy Module Importing\n",
    ">```python\n",
    ">from math import sqrt # but not from math import *\n",
    ">val = sqrt(60)\n",
    ">```\n",
    "- Be Careful with Bulky Libraries\n",
    "> Reduce the number and size of dependencies, keep your code simple.\n",
    "- Avoid Global Variables\n",
    "> Local Variables lead to less memory usage and higher performance, it is simply best to avoid global variables when possible.\n",
    "- Adopt Proper Algorithms and Data Structures\n",
    "> - Algorithms are like science, while optimization is like technique. When the current technique can not take you to a galaxy far far away, try to find a worm whole.\n",
    "> - Data structure provides the right way to organize information in the digital space. Consider using `FITS`, `HDF5`, `Pandas`, and so on, before start your astronomical research.\n",
    "\n",
    "# Ways to Speed Up your Python code\n",
    "- Use Exsiting Packages: Numpy/Scipy/Numba\n",
    "- Python-C/C++/Fortran Integration\n",
    "- Mutiprocessing/MPI4py/Ctypes+OpenMP"
   ]
  },
  {
   "cell_type": "markdown",
   "id": "337c8ca7-ef02-4283-a26f-aa88d5d5fc3e",
   "metadata": {
    "tags": []
   },
   "source": [
    "# Benchmark\n",
    "Simpson Integration with Python\n",
    "\n",
    "∫^𝑥𝑖+1_𝑥𝑖−1𝑓(𝑥)𝑑𝑥=ℎ3(𝑓(𝑥𝑖−1)+4𝑓(𝑥𝑖)+𝑓(𝑥𝑖+1))+𝑂(ℎ5).\n",
    "\n",
    "\n",
    "- 1.Native Python\n",
    "- 2.Numba\n",
    "- 3.Numpy and Scipy\n",
    "- 4.Ctypes/Cython\n",
    "- 5.OpenMP+Ctypes\n",
    "- 6.Multiprocessing\n",
    "- 7.MPI4py"
   ]
  },
  {
   "cell_type": "code",
   "execution_count": 1,
   "id": "672e36f9-4448-4d5b-b847-3e7294732905",
   "metadata": {},
   "outputs": [],
   "source": [
    "# with native python\n",
    "# if N % 2 == 1:\n",
    "#     raise ValueError(\"N must be an even integer.\")\n",
    "\n",
    "from math import sin, pi\n",
    "def func_python(x): \n",
    "    return sin(x)\n",
    "\n",
    "def simpson_python(f,a,b,N=100000000):\n",
    "    dx = (b-a)/N\n",
    "    S = 0\n",
    "    for i in range(1, N, 2):\n",
    "        x_m1 = a+(i-1)*dx\n",
    "        x_i =  a+(i)*dx\n",
    "        x_p1 = a+(i+1)*dx\n",
    "        y_m1 = f(x_m1)\n",
    "        y_i = f(x_i)\n",
    "        y_p1 = f(x_p1)\n",
    "        S += dx/3 * (y_m1 + 4.0*y_i + y_p1)\n",
    "    return S"
   ]
  },
  {
   "cell_type": "code",
   "execution_count": 2,
   "id": "e22d2b03-035c-497c-85c1-e2540fcd85c8",
   "metadata": {},
   "outputs": [
    {
     "name": "stdout",
     "output_type": "stream",
     "text": [
      "CPU times: user 26.2 s, sys: 36.3 ms, total: 26.2 s\n",
      "Wall time: 26.3 s\n"
     ]
    },
    {
     "data": {
      "text/plain": [
       "0.9999999999997551"
      ]
     },
     "execution_count": 2,
     "metadata": {},
     "output_type": "execute_result"
    }
   ],
   "source": [
    "%%time\n",
    "\n",
    "simpson_python(func_python, 0.0, pi/2)"
   ]
  },
  {
   "cell_type": "code",
   "execution_count": 2,
   "id": "ed987166-2469-42d4-bcd7-9eb501a2186d",
   "metadata": {},
   "outputs": [],
   "source": [
    "# with Numpy\n",
    "import numpy as np\n",
    "\n",
    "def func_numpy(x): \n",
    "    return np.sin(x)\n",
    "\n",
    "def simpson_numpy(f,a,b,N=100000000):\n",
    "    dx = (b-a)/N\n",
    "    x = np.linspace(a,b,N+1)\n",
    "    y = f(x)\n",
    "    S = dx/3 * np.sum(y[0:-1:2] + 4*y[1::2] + y[2::2])\n",
    "    return S"
   ]
  },
  {
   "cell_type": "code",
   "execution_count": 4,
   "id": "8962dd04-3538-4cb8-a6e6-e547cb0f93aa",
   "metadata": {},
   "outputs": [
    {
     "name": "stdout",
     "output_type": "stream",
     "text": [
      "CPU times: user 1.38 s, sys: 501 ms, total: 1.88 s\n",
      "Wall time: 1.88 s\n"
     ]
    },
    {
     "data": {
      "text/plain": [
       "0.9999999999999988"
      ]
     },
     "execution_count": 4,
     "metadata": {},
     "output_type": "execute_result"
    }
   ],
   "source": [
    "%%time\n",
    "\n",
    "simpson_numpy(func_numpy, 0.0, np.pi/2)"
   ]
  },
  {
   "cell_type": "code",
   "execution_count": 4,
   "id": "0a783feb-a61f-42a8-ba49-cd92dc368d88",
   "metadata": {},
   "outputs": [
    {
     "name": "stdout",
     "output_type": "stream",
     "text": [
      "CPU times: user 91.8 ms, sys: 48.7 ms, total: 141 ms\n",
      "Wall time: 212 ms\n"
     ]
    },
    {
     "data": {
      "text/plain": [
       "(0.9999999999999999, 1.1102230246251564e-14)"
      ]
     },
     "execution_count": 4,
     "metadata": {},
     "output_type": "execute_result"
    }
   ],
   "source": [
    "%%time\n",
    "\n",
    "from scipy import integrate as spi\n",
    "spi.quad(func_numpy, 0, np.pi/2)"
   ]
  },
  {
   "cell_type": "code",
   "execution_count": 3,
   "id": "f135c8cd-a3f3-42f0-b326-f1b6bc83531e",
   "metadata": {},
   "outputs": [
    {
     "name": "stdout",
     "output_type": "stream",
     "text": [
      "CPU times: user 1.13 s, sys: 325 ms, total: 1.45 s\n",
      "Wall time: 1.5 s\n"
     ]
    }
   ],
   "source": [
    "%%time\n",
    "\n",
    "N_arr = 100000001; # is this number even or odd? \n",
    "a_arr = 0.0; \n",
    "b_arr = np.pi/2;\n",
    "x_arr = np.linspace(a_arr, b_arr, N_arr)\n",
    "y_arr = func_numpy(x_arr)"
   ]
  },
  {
   "cell_type": "code",
   "execution_count": 4,
   "id": "d6ee6cc2-c649-4ca2-8787-952ebce81a77",
   "metadata": {},
   "outputs": [],
   "source": [
    "def simpson_python_arr(y, x):\n",
    "    N = len(x)\n",
    "    dx = x[1] - x[0]\n",
    "    S = 0\n",
    "    for i in range(1, N, 2):\n",
    "        S += dx/3 * (y[i-1] + 4.0*y[i] + y[i+1])\n",
    "    return S"
   ]
  },
  {
   "cell_type": "code",
   "execution_count": 5,
   "id": "c7b4bedf-ad88-4c6e-b315-9c9e2daed556",
   "metadata": {},
   "outputs": [
    {
     "name": "stdout",
     "output_type": "stream",
     "text": [
      "0.9999999999997551\n",
      "CPU times: user 31.3 s, sys: 42.9 ms, total: 31.4 s\n",
      "Wall time: 31.4 s\n"
     ]
    }
   ],
   "source": [
    "%%time\n",
    "\n",
    "print(simpson_python_arr(y_arr, x_arr))"
   ]
  },
  {
   "cell_type": "code",
   "execution_count": 6,
   "id": "01ff265b-50bb-4195-9523-52c576a25e60",
   "metadata": {},
   "outputs": [
    {
     "name": "stdout",
     "output_type": "stream",
     "text": [
      "0.9999999999999988\n",
      "CPU times: user 355 ms, sys: 118 ms, total: 473 ms\n",
      "Wall time: 477 ms\n"
     ]
    }
   ],
   "source": [
    "%%time\n",
    "\n",
    "def simpson_numpy_arr(y, x):\n",
    "    S = (x[1]-x[0])/3 * np.sum(y[0:-1:2] + 4*y[1::2] + y[2::2])\n",
    "    return S\n",
    "\n",
    "print(simpson_numpy_arr(y_arr, x_arr))"
   ]
  },
  {
   "cell_type": "code",
   "execution_count": 7,
   "id": "96522ec7-7543-4653-9844-213b0d1b665c",
   "metadata": {},
   "outputs": [
    {
     "name": "stdout",
     "output_type": "stream",
     "text": [
      "0.9999999999999976\n",
      "CPU times: user 1.93 s, sys: 1.99 s, total: 3.92 s\n",
      "Wall time: 4.4 s\n"
     ]
    }
   ],
   "source": [
    "%%time\n",
    "# with Scipy.integrate.simps\n",
    "from scipy import integrate as spi\n",
    "\n",
    "print(spi.simps(y_arr, x_arr))"
   ]
  },
  {
   "cell_type": "code",
   "execution_count": 10,
   "id": "90d7b911-0164-41ba-8b90-94dbadce4c51",
   "metadata": {},
   "outputs": [
    {
     "name": "stdout",
     "output_type": "stream",
     "text": [
      "0.9999999999997551\n",
      "CPU times: user 530 ms, sys: 114 ms, total: 644 ms\n",
      "Wall time: 804 ms\n"
     ]
    }
   ],
   "source": [
    "%%time\n",
    "# with Numba\n",
    "\n",
    "from numba import jit\n",
    "\n",
    "@jit(nopython=True)\n",
    "def simpson_numba(y, x):\n",
    "    N = len(x)\n",
    "    dx = x[1] - x[0]\n",
    "    S = 0\n",
    "    for i in range(1, N, 2):\n",
    "        S += dx/3 * (y[i-1] + 4.0*y[i] + y[i+1])\n",
    "    return S\n",
    "\n",
    "print(simpson_numba(y_arr, x_arr))"
   ]
  },
  {
   "cell_type": "code",
   "execution_count": 12,
   "id": "21d91e49-ee6c-4707-8579-4c6550324919",
   "metadata": {},
   "outputs": [],
   "source": [
    "# gcc-11 -O2 --shared example.c -o example.so -Wall\n",
    "# gcc-11 -O2 --shared example.c -o example.so -fopenmp  -Wall"
   ]
  },
  {
   "cell_type": "code",
   "execution_count": 8,
   "id": "ae3b84e4-11ee-497f-99db-507487a1235f",
   "metadata": {},
   "outputs": [],
   "source": [
    "import ctypes as ct\n",
    "ctypes_example = ct.CDLL(\"./example.so\")"
   ]
  },
  {
   "cell_type": "code",
   "execution_count": 9,
   "id": "43fdd45b-f9c3-4f13-8b84-8ad243d8ef67",
   "metadata": {},
   "outputs": [],
   "source": [
    "ctypes_example.simpson_c.argtypes = [np.ctypeslib.ndpointer(dtype = ct.c_double), \\\n",
    "                                     np.ctypeslib.ndpointer(dtype = ct.c_double), \\\n",
    "                                     ct.c_long]\n",
    "ctypes_example.simpson_c.restype  = ct.c_double\n",
    "\n",
    "def call_simpson_c(y, x):\n",
    "    N_in = ct.c_long(len(x))\n",
    "    y_in = np.array(y, dtype=ct.c_double)\n",
    "    x_in = np.array(x, dtype=ct.c_double)\n",
    "    res = ctypes_example.simpson_c(y_in, x_in, N_in)\n",
    "    return res"
   ]
  },
  {
   "cell_type": "code",
   "execution_count": 10,
   "id": "41b3ad31-b004-49bc-a9bd-caa07fffdf44",
   "metadata": {},
   "outputs": [],
   "source": [
    "ctypes_example.simpson_c_omp.argtypes = [np.ctypeslib.ndpointer(dtype = ct.c_double), \\\n",
    "                                         np.ctypeslib.ndpointer(dtype = ct.c_double), \\\n",
    "                                         ct.c_long, ct.c_int]\n",
    "ctypes_example.simpson_c_omp.restype  = ct.c_double\n",
    "\n",
    "def call_simpson_c_omp(y, x, nThreads=4):\n",
    "    N_in = ct.c_long(len(x))\n",
    "    y_in = np.array(y, dtype=ct.c_double)\n",
    "    x_in = np.array(x, dtype=ct.c_double)\n",
    "    nThreads_in = ct.c_int(nThreads)\n",
    "    res = ctypes_example.simpson_c_omp(y_in, x_in, N_in, nThreads_in)\n",
    "    return res"
   ]
  },
  {
   "cell_type": "code",
   "execution_count": 16,
   "id": "bf5f0274-1eb1-4221-a2df-8bfab35064bd",
   "metadata": {},
   "outputs": [
    {
     "name": "stdout",
     "output_type": "stream",
     "text": [
      "1.0000000000000182\n",
      "CPU times: user 688 ms, sys: 391 ms, total: 1.08 s\n",
      "Wall time: 831 ms\n"
     ]
    }
   ],
   "source": [
    "%%time\n",
    "\n",
    "print(call_simpson_c_omp(y_arr, x_arr, nThreads=8))"
   ]
  },
  {
   "cell_type": "code",
   "execution_count": 12,
   "id": "65599b07-abac-4267-9c65-ffaf8aaea914",
   "metadata": {},
   "outputs": [
    {
     "name": "stdout",
     "output_type": "stream",
     "text": [
      "1.000000005235743\n",
      "CPU times: user 488 ms, sys: 403 ms, total: 892 ms\n",
      "Wall time: 891 ms\n"
     ]
    }
   ],
   "source": [
    "%%time\n",
    "\n",
    "print(call_simpson_c(y_arr, x_arr))"
   ]
  },
  {
   "cell_type": "markdown",
   "id": "447faed2-0892-4c68-aec1-04a7ceb3209c",
   "metadata": {},
   "source": [
    "# with mpi4py\n",
    "\n",
    ">```bash\n",
    ">(base) [nanli@tulip ~]$ time mpirun -np 4 python mpi4py_integrate_arrays.py\n",
    ">\n",
    ">With n =  100000001 bins, \n",
    ">integral of sine(x) from 0.0 to 1.5707963267948966 = 1.0000000000000338 \n",
    ">real    0m13.090s\n",
    ">user    0m48.931s\n",
    ">sys     0m2.418s\n",
    ">```\n",
    "\n",
    "```python\n",
    "import numpy as np\n",
    "\n",
    "def simpson_local_arr(y, x, i_start, i_end):\n",
    "    dx = x[1] - x[0]\n",
    "    S = 0\n",
    "    if i_end >= len(x):\n",
    "        i_end = int(len(x))\n",
    "    for i in range(i_start, i_end, 2):\n",
    "        S += dx/3 * (y[i-1] + 4.0*y[i] + y[i+1])\n",
    "    return S\n",
    "\n",
    "from mpi4py import MPI\n",
    "if __name__ == '__main__':\n",
    "    comm = MPI.COMM_WORLD\n",
    "    rank = comm.Get_rank()\n",
    "    size = comm.Get_size()\n",
    "\n",
    "    dest=0\n",
    "    total=-1.0\n",
    "\n",
    "    N_arr = 100000001; # is this number even or odd? \n",
    "    a_arr = 0.0; \n",
    "    b_arr = np.pi/2;\n",
    "    x_arr = np.linspace(a_arr, b_arr, N_arr)\n",
    "    y_arr = np.sin(x_arr)\n",
    "\n",
    "    local_n = int(N_arr/size)\n",
    "    i_s = 1+rank*local_n\n",
    "    i_e = i_s + local_n\n",
    "    \n",
    "    integral = simpson_local_arr(y_arr, x_arr, i_s, i_e)\n",
    "\n",
    "    if rank == 0:\n",
    "        total = integral\n",
    "        for source in range(1,size):\n",
    "            integral = comm.recv(source=source)\n",
    "            print(\"PE \", rank, \"<-\", source, \",\", integral, \"\\n\")\n",
    "            total = total + integral\n",
    "    else:\n",
    "        print(\"PE \", rank, \"->\", dest, \",\", integral, \"\\n\")\n",
    "        comm.send(integral, dest=0)\n",
    "\n",
    "    if (rank == 0):\n",
    "        print(\"\\n\")\n",
    "        print(\"With n = \", N_arr, \"bins, \\n\")\n",
    "        print(\"integral of sine(x) from\", a_arr, \"to\", b_arr, \"=\", total, \"\\n\")\n",
    "    MPI.Finalize\n",
    "```"
   ]
  },
  {
   "cell_type": "markdown",
   "id": "fe2bfe49-760b-49be-94c9-a5d204d33f7c",
   "metadata": {
    "tags": []
   },
   "source": [
    "# mpi4py 2\n",
    ">\n",
    ">```bash\n",
    ">(base) [nanli@tulip ~]$ time mpirun -np 4 python mpi4py_Sum_arrays.py \n",
    ">\n",
    ">S =  [1.00000001]\n",
    ">\n",
    ">real    0m22.751s\n",
    ">user    1m24.098s\n",
    ">sys     0m5.683s\n",
    ">```\n",
    ">\n",
    "\n",
    "```python\n",
    "import numpy as np\n",
    "\n",
    "def simpson_local_arr(y, x, i_start, i_end):\n",
    "    dx = x[1] - x[0]\n",
    "    S = 0\n",
    "    if i_end >= len(x):\n",
    "        i_end = int(len(x))\n",
    "    for i in range(i_start, i_end, 2):\n",
    "        S += dx/3 * (y[i-1] + 4.0*y[i] + y[i+1])\n",
    "    return S\n",
    "\n",
    "from mpi4py import MPI\n",
    "if __name__ == '__main__':\n",
    "    comm = MPI.COMM_WORLD\n",
    "    rank = comm.Get_rank()\n",
    "    size = comm.Get_size()\n",
    "    \n",
    "    dest=0\n",
    "    total=-1.0\n",
    "\n",
    "    N_arr = 100000001; # is this number even or odd? \n",
    "    a_arr = 0.0; \n",
    "    b_arr = np.pi/2;\n",
    "    x_arr = np.linspace(a_arr, b_arr, N_arr)\n",
    "    y_arr = np.sin(x_arr)\n",
    "\n",
    "    comm.Bcast([y_arr, MPI.DOUBLE], root=0)\n",
    "    comm.Bcast([x_arr, MPI.DOUBLE], root=0)\n",
    "\n",
    "    if rank == 0:\n",
    "        sendbuf = np.arange(N_arr)\n",
    "        ave, res = divmod(len(sendbuf), size)\n",
    "        count = [ave + 1 if p < res else ave for p in range(size)]\n",
    "        count = np.array(count)\n",
    "        displ = [sum(count[:p]) for p in range(size)]\n",
    "        displ = np.array(displ)\n",
    "    else:\n",
    "        sendbuf = None\n",
    "        count = np.zeros(size, dtype=int)\n",
    "        displ = np.zeros(size, dtype=int)\n",
    "    comm.Bcast(count, root=0)\n",
    "    comm.Bcast(displ, root=0)\n",
    "    recvbuf = np.zeros(count[rank])\n",
    "    comm.Scatterv([sendbuf, count, displ, MPI.DOUBLE], recvbuf, root=0)\n",
    "    \n",
    "    S_loc = np.array([0.0])\n",
    "    comm.Bcast([S_loc, MPI.DOUBLE], root=0)    \n",
    "    i_s = displ[rank]\n",
    "    i_e = displ[rank]+count[rank]\n",
    "    S_loc[0] = simpson_local_arr(y_arr, x_arr, i_s, i_e)\n",
    "    comm.Barrier()\n",
    "    \n",
    "    if rank==0:\n",
    "        S_tot = np.array([0.0])\n",
    "    else:\n",
    "        S_tot = None\n",
    "\n",
    "    comm.Reduce(\n",
    "        [S_loc, MPI.DOUBLE],\n",
    "        [S_tot, MPI.DOUBLE],\n",
    "        op=MPI.SUM,\n",
    "        root=0)\n",
    "\n",
    "    if rank==0:\n",
    "        print(\"S = \", S_tot)\n",
    "```\n"
   ]
  },
  {
   "cell_type": "code",
   "execution_count": 16,
   "id": "a175a52d-b885-4576-b4f5-b77f8aadf986",
   "metadata": {},
   "outputs": [
    {
     "name": "stdout",
     "output_type": "stream",
     "text": [
      "Ctypes[0.000017]\n",
      "Python[0.009069]\n",
      "numpy[0.001311]\n"
     ]
    }
   ],
   "source": [
    "def evaluate(name, func):\n",
    "    st = time.time()\n",
    "    out = [func(x) for x in range(10)]\n",
    "    print('%s[%f]' % (name, time.time() - st))\n",
    "    return out"
   ]
  },
  {
   "cell_type": "code",
   "execution_count": 36,
   "id": "44c86630-c35f-4d84-a686-56e2564d7bf0",
   "metadata": {},
   "outputs": [],
   "source": [
    "def simpson_tmp_arr(y):\n",
    "    N = int(len(y))\n",
    "    dx = x_arr[1] - x_arr[0]\n",
    "    S = 0\n",
    "    for i in range(1, N, 2):\n",
    "        S += dx/3 * (y[i-1] + 4.0*y[i] + y[i+1])\n",
    "    return S"
   ]
  },
  {
   "cell_type": "code",
   "execution_count": 37,
   "id": "9001505e-788c-404f-82c8-7e43ec270978",
   "metadata": {},
   "outputs": [
    {
     "name": "stderr",
     "output_type": "stream",
     "text": [
      "Process SpawnPoolWorker-100:\n",
      "Traceback (most recent call last):\n",
      "  File \"/Users/uranus/Applications/miniconda3/lib/python3.9/multiprocessing/process.py\", line 315, in _bootstrap\n",
      "    self.run()\n",
      "  File \"/Users/uranus/Applications/miniconda3/lib/python3.9/multiprocessing/process.py\", line 108, in run\n",
      "    self._target(*self._args, **self._kwargs)\n",
      "  File \"/Users/uranus/Applications/miniconda3/lib/python3.9/multiprocessing/pool.py\", line 114, in worker\n",
      "    task = get()\n",
      "  File \"/Users/uranus/Applications/miniconda3/lib/python3.9/multiprocessing/queues.py\", line 368, in get\n",
      "    return _ForkingPickler.loads(res)\n",
      "AttributeError: Can't get attribute 'simpson_tmp_arr' on <module '__main__' (built-in)>\n",
      "Process SpawnPoolWorker-101:\n",
      "Traceback (most recent call last):\n",
      "  File \"/Users/uranus/Applications/miniconda3/lib/python3.9/multiprocessing/process.py\", line 315, in _bootstrap\n",
      "    self.run()\n",
      "  File \"/Users/uranus/Applications/miniconda3/lib/python3.9/multiprocessing/process.py\", line 108, in run\n",
      "    self._target(*self._args, **self._kwargs)\n",
      "  File \"/Users/uranus/Applications/miniconda3/lib/python3.9/multiprocessing/pool.py\", line 114, in worker\n",
      "    task = get()\n",
      "  File \"/Users/uranus/Applications/miniconda3/lib/python3.9/multiprocessing/queues.py\", line 368, in get\n",
      "    return _ForkingPickler.loads(res)\n",
      "AttributeError: Can't get attribute 'simpson_tmp_arr' on <module '__main__' (built-in)>\n",
      "Process SpawnPoolWorker-102:\n",
      "Traceback (most recent call last):\n",
      "  File \"/Users/uranus/Applications/miniconda3/lib/python3.9/multiprocessing/process.py\", line 315, in _bootstrap\n",
      "    self.run()\n",
      "  File \"/Users/uranus/Applications/miniconda3/lib/python3.9/multiprocessing/process.py\", line 108, in run\n",
      "    self._target(*self._args, **self._kwargs)\n",
      "  File \"/Users/uranus/Applications/miniconda3/lib/python3.9/multiprocessing/pool.py\", line 114, in worker\n",
      "    task = get()\n",
      "  File \"/Users/uranus/Applications/miniconda3/lib/python3.9/multiprocessing/queues.py\", line 368, in get\n",
      "    return _ForkingPickler.loads(res)\n",
      "AttributeError: Can't get attribute 'simpson_tmp_arr' on <module '__main__' (built-in)>\n",
      "Process SpawnPoolWorker-103:\n",
      "Traceback (most recent call last):\n",
      "  File \"/Users/uranus/Applications/miniconda3/lib/python3.9/multiprocessing/process.py\", line 315, in _bootstrap\n",
      "    self.run()\n",
      "  File \"/Users/uranus/Applications/miniconda3/lib/python3.9/multiprocessing/process.py\", line 108, in run\n",
      "    self._target(*self._args, **self._kwargs)\n",
      "  File \"/Users/uranus/Applications/miniconda3/lib/python3.9/multiprocessing/pool.py\", line 114, in worker\n",
      "    task = get()\n",
      "  File \"/Users/uranus/Applications/miniconda3/lib/python3.9/multiprocessing/queues.py\", line 368, in get\n",
      "    return _ForkingPickler.loads(res)\n",
      "AttributeError: Can't get attribute 'simpson_tmp_arr' on <module '__main__' (built-in)>\n",
      "Process SpawnPoolWorker-104:\n",
      "Traceback (most recent call last):\n",
      "  File \"/Users/uranus/Applications/miniconda3/lib/python3.9/multiprocessing/process.py\", line 315, in _bootstrap\n",
      "    self.run()\n",
      "  File \"/Users/uranus/Applications/miniconda3/lib/python3.9/multiprocessing/process.py\", line 108, in run\n",
      "    self._target(*self._args, **self._kwargs)\n",
      "  File \"/Users/uranus/Applications/miniconda3/lib/python3.9/multiprocessing/pool.py\", line 114, in worker\n",
      "    task = get()\n",
      "  File \"/Users/uranus/Applications/miniconda3/lib/python3.9/multiprocessing/queues.py\", line 368, in get\n",
      "    return _ForkingPickler.loads(res)\n",
      "AttributeError: Can't get attribute 'simpson_tmp_arr' on <module '__main__' (built-in)>\n",
      "Process SpawnPoolWorker-105:\n",
      "Traceback (most recent call last):\n",
      "  File \"/Users/uranus/Applications/miniconda3/lib/python3.9/multiprocessing/process.py\", line 315, in _bootstrap\n",
      "    self.run()\n",
      "  File \"/Users/uranus/Applications/miniconda3/lib/python3.9/multiprocessing/process.py\", line 108, in run\n",
      "    self._target(*self._args, **self._kwargs)\n",
      "  File \"/Users/uranus/Applications/miniconda3/lib/python3.9/multiprocessing/pool.py\", line 114, in worker\n",
      "    task = get()\n",
      "  File \"/Users/uranus/Applications/miniconda3/lib/python3.9/multiprocessing/queues.py\", line 368, in get\n",
      "    return _ForkingPickler.loads(res)\n",
      "AttributeError: Can't get attribute 'simpson_tmp_arr' on <module '__main__' (built-in)>\n",
      "Process SpawnPoolWorker-106:\n",
      "Traceback (most recent call last):\n",
      "  File \"/Users/uranus/Applications/miniconda3/lib/python3.9/multiprocessing/process.py\", line 315, in _bootstrap\n",
      "    self.run()\n",
      "  File \"/Users/uranus/Applications/miniconda3/lib/python3.9/multiprocessing/process.py\", line 108, in run\n",
      "    self._target(*self._args, **self._kwargs)\n",
      "  File \"/Users/uranus/Applications/miniconda3/lib/python3.9/multiprocessing/pool.py\", line 114, in worker\n",
      "    task = get()\n",
      "  File \"/Users/uranus/Applications/miniconda3/lib/python3.9/multiprocessing/queues.py\", line 368, in get\n",
      "    return _ForkingPickler.loads(res)\n",
      "AttributeError: Can't get attribute 'simpson_tmp_arr' on <module '__main__' (built-in)>\n",
      "Process SpawnPoolWorker-107:\n",
      "Traceback (most recent call last):\n",
      "  File \"/Users/uranus/Applications/miniconda3/lib/python3.9/multiprocessing/process.py\", line 315, in _bootstrap\n",
      "    self.run()\n",
      "  File \"/Users/uranus/Applications/miniconda3/lib/python3.9/multiprocessing/process.py\", line 108, in run\n",
      "    self._target(*self._args, **self._kwargs)\n",
      "  File \"/Users/uranus/Applications/miniconda3/lib/python3.9/multiprocessing/pool.py\", line 114, in worker\n",
      "    task = get()\n",
      "  File \"/Users/uranus/Applications/miniconda3/lib/python3.9/multiprocessing/queues.py\", line 368, in get\n",
      "    return _ForkingPickler.loads(res)\n",
      "AttributeError: Can't get attribute 'simpson_tmp_arr' on <module '__main__' (built-in)>\n",
      "Process SpawnPoolWorker-112:\n",
      "Process SpawnPoolWorker-113:\n",
      "Process SpawnPoolWorker-111:\n",
      "Process SpawnPoolWorker-98:\n",
      "Process SpawnPoolWorker-108:\n",
      "Process SpawnPoolWorker-99:\n",
      "Process SpawnPoolWorker-109:\n",
      "Process SpawnPoolWorker-110:\n",
      "Process SpawnPoolWorker-115:\n",
      "Traceback (most recent call last):\n",
      "  File \"/Users/uranus/Applications/miniconda3/lib/python3.9/multiprocessing/process.py\", line 315, in _bootstrap\n",
      "    self.run()\n",
      "  File \"/Users/uranus/Applications/miniconda3/lib/python3.9/multiprocessing/process.py\", line 108, in run\n",
      "    self._target(*self._args, **self._kwargs)\n",
      "  File \"/Users/uranus/Applications/miniconda3/lib/python3.9/multiprocessing/pool.py\", line 114, in worker\n",
      "    task = get()\n",
      "  File \"/Users/uranus/Applications/miniconda3/lib/python3.9/multiprocessing/queues.py\", line 365, in get\n",
      "    with self._rlock:\n",
      "  File \"/Users/uranus/Applications/miniconda3/lib/python3.9/multiprocessing/synchronize.py\", line 95, in __enter__\n",
      "    return self._semlock.__enter__()\n",
      "KeyboardInterrupt\n",
      "Traceback (most recent call last):\n",
      "  File \"/Users/uranus/Applications/miniconda3/lib/python3.9/multiprocessing/process.py\", line 315, in _bootstrap\n",
      "    self.run()\n",
      "  File \"/Users/uranus/Applications/miniconda3/lib/python3.9/multiprocessing/process.py\", line 108, in run\n",
      "    self._target(*self._args, **self._kwargs)\n",
      "  File \"/Users/uranus/Applications/miniconda3/lib/python3.9/multiprocessing/pool.py\", line 114, in worker\n",
      "    task = get()\n",
      "  File \"/Users/uranus/Applications/miniconda3/lib/python3.9/multiprocessing/queues.py\", line 365, in get\n",
      "    with self._rlock:\n",
      "  File \"/Users/uranus/Applications/miniconda3/lib/python3.9/multiprocessing/synchronize.py\", line 95, in __enter__\n",
      "    return self._semlock.__enter__()\n",
      "Traceback (most recent call last):\n",
      "Traceback (most recent call last):\n",
      "KeyboardInterrupt\n",
      "  File \"/Users/uranus/Applications/miniconda3/lib/python3.9/multiprocessing/process.py\", line 315, in _bootstrap\n",
      "    self.run()\n",
      "  File \"/Users/uranus/Applications/miniconda3/lib/python3.9/multiprocessing/process.py\", line 108, in run\n",
      "    self._target(*self._args, **self._kwargs)\n",
      "  File \"/Users/uranus/Applications/miniconda3/lib/python3.9/multiprocessing/pool.py\", line 114, in worker\n",
      "    task = get()\n",
      "  File \"/Users/uranus/Applications/miniconda3/lib/python3.9/multiprocessing/queues.py\", line 365, in get\n",
      "    with self._rlock:\n",
      "Traceback (most recent call last):\n",
      "  File \"/Users/uranus/Applications/miniconda3/lib/python3.9/multiprocessing/synchronize.py\", line 95, in __enter__\n",
      "    return self._semlock.__enter__()\n",
      "Process SpawnPoolWorker-114:\n",
      "KeyboardInterrupt\n",
      "  File \"/Users/uranus/Applications/miniconda3/lib/python3.9/multiprocessing/process.py\", line 315, in _bootstrap\n",
      "    self.run()\n",
      "  File \"/Users/uranus/Applications/miniconda3/lib/python3.9/multiprocessing/process.py\", line 108, in run\n",
      "    self._target(*self._args, **self._kwargs)\n",
      "  File \"/Users/uranus/Applications/miniconda3/lib/python3.9/multiprocessing/pool.py\", line 114, in worker\n",
      "    task = get()\n",
      "  File \"/Users/uranus/Applications/miniconda3/lib/python3.9/multiprocessing/queues.py\", line 366, in get\n",
      "    res = self._reader.recv_bytes()\n",
      "  File \"/Users/uranus/Applications/miniconda3/lib/python3.9/multiprocessing/connection.py\", line 221, in recv_bytes\n",
      "    buf = self._recv_bytes(maxlength)\n",
      "  File \"/Users/uranus/Applications/miniconda3/lib/python3.9/multiprocessing/connection.py\", line 419, in _recv_bytes\n",
      "    buf = self._recv(4)\n",
      "  File \"/Users/uranus/Applications/miniconda3/lib/python3.9/multiprocessing/connection.py\", line 384, in _recv\n",
      "    chunk = read(handle, remaining)\n",
      "KeyboardInterrupt\n",
      "Traceback (most recent call last):\n",
      "  File \"/Users/uranus/Applications/miniconda3/lib/python3.9/multiprocessing/process.py\", line 315, in _bootstrap\n",
      "    self.run()\n",
      "  File \"/Users/uranus/Applications/miniconda3/lib/python3.9/multiprocessing/process.py\", line 108, in run\n",
      "    self._target(*self._args, **self._kwargs)\n",
      "  File \"/Users/uranus/Applications/miniconda3/lib/python3.9/multiprocessing/pool.py\", line 114, in worker\n",
      "    task = get()\n",
      "  File \"/Users/uranus/Applications/miniconda3/lib/python3.9/multiprocessing/queues.py\", line 365, in get\n",
      "    with self._rlock:\n",
      "  File \"/Users/uranus/Applications/miniconda3/lib/python3.9/multiprocessing/synchronize.py\", line 95, in __enter__\n",
      "    return self._semlock.__enter__()\n",
      "KeyboardInterrupt\n",
      "Traceback (most recent call last):\n",
      "  File \"/Users/uranus/Applications/miniconda3/lib/python3.9/multiprocessing/process.py\", line 315, in _bootstrap\n",
      "    self.run()\n",
      "  File \"/Users/uranus/Applications/miniconda3/lib/python3.9/multiprocessing/process.py\", line 108, in run\n",
      "    self._target(*self._args, **self._kwargs)\n",
      "  File \"/Users/uranus/Applications/miniconda3/lib/python3.9/multiprocessing/pool.py\", line 114, in worker\n",
      "    task = get()\n",
      "  File \"/Users/uranus/Applications/miniconda3/lib/python3.9/multiprocessing/queues.py\", line 365, in get\n",
      "    with self._rlock:\n",
      "  File \"/Users/uranus/Applications/miniconda3/lib/python3.9/multiprocessing/synchronize.py\", line 95, in __enter__\n",
      "    return self._semlock.__enter__()\n",
      "KeyboardInterrupt\n",
      "Traceback (most recent call last):\n",
      "  File \"/Users/uranus/Applications/miniconda3/lib/python3.9/multiprocessing/process.py\", line 315, in _bootstrap\n",
      "    self.run()\n",
      "  File \"/Users/uranus/Applications/miniconda3/lib/python3.9/multiprocessing/process.py\", line 108, in run\n",
      "    self._target(*self._args, **self._kwargs)\n",
      "  File \"/Users/uranus/Applications/miniconda3/lib/python3.9/multiprocessing/pool.py\", line 114, in worker\n",
      "    task = get()\n",
      "  File \"/Users/uranus/Applications/miniconda3/lib/python3.9/multiprocessing/queues.py\", line 365, in get\n",
      "    with self._rlock:\n",
      "  File \"/Users/uranus/Applications/miniconda3/lib/python3.9/multiprocessing/synchronize.py\", line 95, in __enter__\n",
      "    return self._semlock.__enter__()\n",
      "KeyboardInterrupt\n",
      "Traceback (most recent call last):\n",
      "  File \"/Users/uranus/Applications/miniconda3/lib/python3.9/multiprocessing/process.py\", line 315, in _bootstrap\n",
      "    self.run()\n",
      "  File \"/Users/uranus/Applications/miniconda3/lib/python3.9/multiprocessing/process.py\", line 108, in run\n",
      "    self._target(*self._args, **self._kwargs)\n",
      "  File \"/Users/uranus/Applications/miniconda3/lib/python3.9/multiprocessing/pool.py\", line 114, in worker\n",
      "    task = get()\n",
      "  File \"/Users/uranus/Applications/miniconda3/lib/python3.9/multiprocessing/queues.py\", line 365, in get\n",
      "    with self._rlock:\n",
      "  File \"/Users/uranus/Applications/miniconda3/lib/python3.9/multiprocessing/synchronize.py\", line 95, in __enter__\n",
      "    return self._semlock.__enter__()\n",
      "KeyboardInterrupt\n",
      "  File \"/Users/uranus/Applications/miniconda3/lib/python3.9/multiprocessing/process.py\", line 315, in _bootstrap\n",
      "    self.run()\n",
      "  File \"/Users/uranus/Applications/miniconda3/lib/python3.9/multiprocessing/process.py\", line 108, in run\n",
      "    self._target(*self._args, **self._kwargs)\n",
      "  File \"/Users/uranus/Applications/miniconda3/lib/python3.9/multiprocessing/pool.py\", line 114, in worker\n",
      "    task = get()\n",
      "  File \"/Users/uranus/Applications/miniconda3/lib/python3.9/multiprocessing/queues.py\", line 365, in get\n",
      "    with self._rlock:\n",
      "  File \"/Users/uranus/Applications/miniconda3/lib/python3.9/multiprocessing/synchronize.py\", line 95, in __enter__\n",
      "    return self._semlock.__enter__()\n",
      "KeyboardInterrupt\n",
      "Traceback (most recent call last):\n",
      "  File \"/Users/uranus/Applications/miniconda3/lib/python3.9/multiprocessing/process.py\", line 315, in _bootstrap\n",
      "    self.run()\n",
      "  File \"/Users/uranus/Applications/miniconda3/lib/python3.9/multiprocessing/process.py\", line 108, in run\n",
      "    self._target(*self._args, **self._kwargs)\n",
      "  File \"/Users/uranus/Applications/miniconda3/lib/python3.9/multiprocessing/pool.py\", line 114, in worker\n",
      "    task = get()\n",
      "  File \"/Users/uranus/Applications/miniconda3/lib/python3.9/multiprocessing/queues.py\", line 365, in get\n",
      "    with self._rlock:\n",
      "  File \"/Users/uranus/Applications/miniconda3/lib/python3.9/multiprocessing/synchronize.py\", line 95, in __enter__\n",
      "    return self._semlock.__enter__()\n",
      "KeyboardInterrupt\n"
     ]
    },
    {
     "ename": "KeyboardInterrupt",
     "evalue": "",
     "output_type": "error",
     "traceback": [
      "\u001b[0;31m---------------------------------------------------------------------------\u001b[0m",
      "\u001b[0;31mKeyboardInterrupt\u001b[0m                         Traceback (most recent call last)",
      "\u001b[0;32m/var/folders/7z/hdr_2hpx1td2cw2cxslg7d1w0000gs/T/ipykernel_26912/1049789401.py\u001b[0m in \u001b[0;36m<module>\u001b[0;34m\u001b[0m\n\u001b[1;32m      5\u001b[0m \u001b[0;34m\u001b[0m\u001b[0m\n\u001b[1;32m      6\u001b[0m \u001b[0;32mwith\u001b[0m \u001b[0mPool\u001b[0m\u001b[0;34m(\u001b[0m\u001b[0mcores\u001b[0m\u001b[0;34m)\u001b[0m \u001b[0;32mas\u001b[0m \u001b[0mp\u001b[0m\u001b[0;34m:\u001b[0m\u001b[0;34m\u001b[0m\u001b[0;34m\u001b[0m\u001b[0m\n\u001b[0;32m----> 7\u001b[0;31m     \u001b[0mparts\u001b[0m \u001b[0;34m=\u001b[0m \u001b[0mp\u001b[0m\u001b[0;34m.\u001b[0m\u001b[0mmap\u001b[0m\u001b[0;34m(\u001b[0m\u001b[0msimpson_tmp_arr\u001b[0m\u001b[0;34m,\u001b[0m \u001b[0my_parts\u001b[0m\u001b[0;34m)\u001b[0m\u001b[0;34m\u001b[0m\u001b[0;34m\u001b[0m\u001b[0m\n\u001b[0m",
      "\u001b[0;32m~/Applications/miniconda3/lib/python3.9/multiprocessing/pool.py\u001b[0m in \u001b[0;36mmap\u001b[0;34m(self, func, iterable, chunksize)\u001b[0m\n\u001b[1;32m    362\u001b[0m         \u001b[0;32min\u001b[0m \u001b[0ma\u001b[0m \u001b[0mlist\u001b[0m \u001b[0mthat\u001b[0m \u001b[0;32mis\u001b[0m \u001b[0mreturned\u001b[0m\u001b[0;34m.\u001b[0m\u001b[0;34m\u001b[0m\u001b[0;34m\u001b[0m\u001b[0m\n\u001b[1;32m    363\u001b[0m         '''\n\u001b[0;32m--> 364\u001b[0;31m         \u001b[0;32mreturn\u001b[0m \u001b[0mself\u001b[0m\u001b[0;34m.\u001b[0m\u001b[0m_map_async\u001b[0m\u001b[0;34m(\u001b[0m\u001b[0mfunc\u001b[0m\u001b[0;34m,\u001b[0m \u001b[0miterable\u001b[0m\u001b[0;34m,\u001b[0m \u001b[0mmapstar\u001b[0m\u001b[0;34m,\u001b[0m \u001b[0mchunksize\u001b[0m\u001b[0;34m)\u001b[0m\u001b[0;34m.\u001b[0m\u001b[0mget\u001b[0m\u001b[0;34m(\u001b[0m\u001b[0;34m)\u001b[0m\u001b[0;34m\u001b[0m\u001b[0;34m\u001b[0m\u001b[0m\n\u001b[0m\u001b[1;32m    365\u001b[0m \u001b[0;34m\u001b[0m\u001b[0m\n\u001b[1;32m    366\u001b[0m     \u001b[0;32mdef\u001b[0m \u001b[0mstarmap\u001b[0m\u001b[0;34m(\u001b[0m\u001b[0mself\u001b[0m\u001b[0;34m,\u001b[0m \u001b[0mfunc\u001b[0m\u001b[0;34m,\u001b[0m \u001b[0miterable\u001b[0m\u001b[0;34m,\u001b[0m \u001b[0mchunksize\u001b[0m\u001b[0;34m=\u001b[0m\u001b[0;32mNone\u001b[0m\u001b[0;34m)\u001b[0m\u001b[0;34m:\u001b[0m\u001b[0;34m\u001b[0m\u001b[0;34m\u001b[0m\u001b[0m\n",
      "\u001b[0;32m~/Applications/miniconda3/lib/python3.9/multiprocessing/pool.py\u001b[0m in \u001b[0;36mget\u001b[0;34m(self, timeout)\u001b[0m\n\u001b[1;32m    763\u001b[0m \u001b[0;34m\u001b[0m\u001b[0m\n\u001b[1;32m    764\u001b[0m     \u001b[0;32mdef\u001b[0m \u001b[0mget\u001b[0m\u001b[0;34m(\u001b[0m\u001b[0mself\u001b[0m\u001b[0;34m,\u001b[0m \u001b[0mtimeout\u001b[0m\u001b[0;34m=\u001b[0m\u001b[0;32mNone\u001b[0m\u001b[0;34m)\u001b[0m\u001b[0;34m:\u001b[0m\u001b[0;34m\u001b[0m\u001b[0;34m\u001b[0m\u001b[0m\n\u001b[0;32m--> 765\u001b[0;31m         \u001b[0mself\u001b[0m\u001b[0;34m.\u001b[0m\u001b[0mwait\u001b[0m\u001b[0;34m(\u001b[0m\u001b[0mtimeout\u001b[0m\u001b[0;34m)\u001b[0m\u001b[0;34m\u001b[0m\u001b[0;34m\u001b[0m\u001b[0m\n\u001b[0m\u001b[1;32m    766\u001b[0m         \u001b[0;32mif\u001b[0m \u001b[0;32mnot\u001b[0m \u001b[0mself\u001b[0m\u001b[0;34m.\u001b[0m\u001b[0mready\u001b[0m\u001b[0;34m(\u001b[0m\u001b[0;34m)\u001b[0m\u001b[0;34m:\u001b[0m\u001b[0;34m\u001b[0m\u001b[0;34m\u001b[0m\u001b[0m\n\u001b[1;32m    767\u001b[0m             \u001b[0;32mraise\u001b[0m \u001b[0mTimeoutError\u001b[0m\u001b[0;34m\u001b[0m\u001b[0;34m\u001b[0m\u001b[0m\n",
      "\u001b[0;32m~/Applications/miniconda3/lib/python3.9/multiprocessing/pool.py\u001b[0m in \u001b[0;36mwait\u001b[0;34m(self, timeout)\u001b[0m\n\u001b[1;32m    760\u001b[0m \u001b[0;34m\u001b[0m\u001b[0m\n\u001b[1;32m    761\u001b[0m     \u001b[0;32mdef\u001b[0m \u001b[0mwait\u001b[0m\u001b[0;34m(\u001b[0m\u001b[0mself\u001b[0m\u001b[0;34m,\u001b[0m \u001b[0mtimeout\u001b[0m\u001b[0;34m=\u001b[0m\u001b[0;32mNone\u001b[0m\u001b[0;34m)\u001b[0m\u001b[0;34m:\u001b[0m\u001b[0;34m\u001b[0m\u001b[0;34m\u001b[0m\u001b[0m\n\u001b[0;32m--> 762\u001b[0;31m         \u001b[0mself\u001b[0m\u001b[0;34m.\u001b[0m\u001b[0m_event\u001b[0m\u001b[0;34m.\u001b[0m\u001b[0mwait\u001b[0m\u001b[0;34m(\u001b[0m\u001b[0mtimeout\u001b[0m\u001b[0;34m)\u001b[0m\u001b[0;34m\u001b[0m\u001b[0;34m\u001b[0m\u001b[0m\n\u001b[0m\u001b[1;32m    763\u001b[0m \u001b[0;34m\u001b[0m\u001b[0m\n\u001b[1;32m    764\u001b[0m     \u001b[0;32mdef\u001b[0m \u001b[0mget\u001b[0m\u001b[0;34m(\u001b[0m\u001b[0mself\u001b[0m\u001b[0;34m,\u001b[0m \u001b[0mtimeout\u001b[0m\u001b[0;34m=\u001b[0m\u001b[0;32mNone\u001b[0m\u001b[0;34m)\u001b[0m\u001b[0;34m:\u001b[0m\u001b[0;34m\u001b[0m\u001b[0;34m\u001b[0m\u001b[0m\n",
      "\u001b[0;32m~/Applications/miniconda3/lib/python3.9/threading.py\u001b[0m in \u001b[0;36mwait\u001b[0;34m(self, timeout)\u001b[0m\n\u001b[1;32m    572\u001b[0m             \u001b[0msignaled\u001b[0m \u001b[0;34m=\u001b[0m \u001b[0mself\u001b[0m\u001b[0;34m.\u001b[0m\u001b[0m_flag\u001b[0m\u001b[0;34m\u001b[0m\u001b[0;34m\u001b[0m\u001b[0m\n\u001b[1;32m    573\u001b[0m             \u001b[0;32mif\u001b[0m \u001b[0;32mnot\u001b[0m \u001b[0msignaled\u001b[0m\u001b[0;34m:\u001b[0m\u001b[0;34m\u001b[0m\u001b[0;34m\u001b[0m\u001b[0m\n\u001b[0;32m--> 574\u001b[0;31m                 \u001b[0msignaled\u001b[0m \u001b[0;34m=\u001b[0m \u001b[0mself\u001b[0m\u001b[0;34m.\u001b[0m\u001b[0m_cond\u001b[0m\u001b[0;34m.\u001b[0m\u001b[0mwait\u001b[0m\u001b[0;34m(\u001b[0m\u001b[0mtimeout\u001b[0m\u001b[0;34m)\u001b[0m\u001b[0;34m\u001b[0m\u001b[0;34m\u001b[0m\u001b[0m\n\u001b[0m\u001b[1;32m    575\u001b[0m             \u001b[0;32mreturn\u001b[0m \u001b[0msignaled\u001b[0m\u001b[0;34m\u001b[0m\u001b[0;34m\u001b[0m\u001b[0m\n\u001b[1;32m    576\u001b[0m \u001b[0;34m\u001b[0m\u001b[0m\n",
      "\u001b[0;32m~/Applications/miniconda3/lib/python3.9/threading.py\u001b[0m in \u001b[0;36mwait\u001b[0;34m(self, timeout)\u001b[0m\n\u001b[1;32m    310\u001b[0m         \u001b[0;32mtry\u001b[0m\u001b[0;34m:\u001b[0m    \u001b[0;31m# restore state no matter what (e.g., KeyboardInterrupt)\u001b[0m\u001b[0;34m\u001b[0m\u001b[0;34m\u001b[0m\u001b[0m\n\u001b[1;32m    311\u001b[0m             \u001b[0;32mif\u001b[0m \u001b[0mtimeout\u001b[0m \u001b[0;32mis\u001b[0m \u001b[0;32mNone\u001b[0m\u001b[0;34m:\u001b[0m\u001b[0;34m\u001b[0m\u001b[0;34m\u001b[0m\u001b[0m\n\u001b[0;32m--> 312\u001b[0;31m                 \u001b[0mwaiter\u001b[0m\u001b[0;34m.\u001b[0m\u001b[0macquire\u001b[0m\u001b[0;34m(\u001b[0m\u001b[0;34m)\u001b[0m\u001b[0;34m\u001b[0m\u001b[0;34m\u001b[0m\u001b[0m\n\u001b[0m\u001b[1;32m    313\u001b[0m                 \u001b[0mgotit\u001b[0m \u001b[0;34m=\u001b[0m \u001b[0;32mTrue\u001b[0m\u001b[0;34m\u001b[0m\u001b[0;34m\u001b[0m\u001b[0m\n\u001b[1;32m    314\u001b[0m             \u001b[0;32melse\u001b[0m\u001b[0;34m:\u001b[0m\u001b[0;34m\u001b[0m\u001b[0;34m\u001b[0m\u001b[0m\n",
      "\u001b[0;31mKeyboardInterrupt\u001b[0m: "
     ]
    }
   ],
   "source": [
    "cores = 8\n",
    "\n",
    "y_parts = np.array_split(y_arr, cores)\n",
    "x_parts = np.array_split(x_arr, cores)\n",
    "\n",
    "with Pool(cores) as p:\n",
    "    parts = p.map(simpson_tmp_arr, y_parts)"
   ]
  },
  {
   "cell_type": "code",
   "execution_count": null,
   "id": "699e495a-7fc2-4c76-b08b-8434e8cfe106",
   "metadata": {},
   "outputs": [],
   "source": [
    "def multiprocess(y, x, cores=8):    \n",
    "    y_parts = np.array_split(y, cores)\n",
    "    x_parts = np.array_split(x, cores)\n",
    "\n",
    "    with Pool(cores) as p:\n",
    "        parts = p.map(simpson_tmp_arr, [y_parts, x_parts])\n",
    "    return np.concatenate(parts)"
   ]
  },
  {
   "cell_type": "code",
   "execution_count": null,
   "id": "d22b901d-d3af-44f0-91ff-52004e085ae2",
   "metadata": {},
   "outputs": [
    {
     "name": "stderr",
     "output_type": "stream",
     "text": [
      "Process SpawnPoolWorker-76:\n",
      "Traceback (most recent call last):\n",
      "  File \"/Users/uranus/Applications/miniconda3/lib/python3.9/multiprocessing/process.py\", line 315, in _bootstrap\n",
      "    self.run()\n",
      "  File \"/Users/uranus/Applications/miniconda3/lib/python3.9/multiprocessing/process.py\", line 108, in run\n",
      "    self._target(*self._args, **self._kwargs)\n",
      "  File \"/Users/uranus/Applications/miniconda3/lib/python3.9/multiprocessing/pool.py\", line 114, in worker\n",
      "    task = get()\n",
      "  File \"/Users/uranus/Applications/miniconda3/lib/python3.9/multiprocessing/queues.py\", line 368, in get\n",
      "    return _ForkingPickler.loads(res)\n",
      "AttributeError: Can't get attribute 'simpson_tmp_arr' on <module '__main__' (built-in)>\n",
      "Process SpawnPoolWorker-77:\n",
      "Traceback (most recent call last):\n",
      "  File \"/Users/uranus/Applications/miniconda3/lib/python3.9/multiprocessing/process.py\", line 315, in _bootstrap\n",
      "    self.run()\n",
      "  File \"/Users/uranus/Applications/miniconda3/lib/python3.9/multiprocessing/process.py\", line 108, in run\n",
      "    self._target(*self._args, **self._kwargs)\n",
      "  File \"/Users/uranus/Applications/miniconda3/lib/python3.9/multiprocessing/pool.py\", line 114, in worker\n",
      "    task = get()\n",
      "  File \"/Users/uranus/Applications/miniconda3/lib/python3.9/multiprocessing/queues.py\", line 368, in get\n",
      "    return _ForkingPickler.loads(res)\n",
      "AttributeError: Can't get attribute 'simpson_tmp_arr' on <module '__main__' (built-in)>\n"
     ]
    }
   ],
   "source": [
    "        \n",
    "multiprocess(y_arr, x_arr)"
   ]
  }
 ],
 "metadata": {
  "kernelspec": {
   "display_name": "Python 3 (ipykernel)",
   "language": "python",
   "name": "python3"
  },
  "language_info": {
   "codemirror_mode": {
    "name": "ipython",
    "version": 3
   },
   "file_extension": ".py",
   "mimetype": "text/x-python",
   "name": "python",
   "nbconvert_exporter": "python",
   "pygments_lexer": "ipython3",
   "version": "3.9.7"
  }
 },
 "nbformat": 4,
 "nbformat_minor": 5
}
