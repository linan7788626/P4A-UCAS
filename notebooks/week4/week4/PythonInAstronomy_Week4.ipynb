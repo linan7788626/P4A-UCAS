{
 "cells": [
  {
   "cell_type": "markdown",
   "id": "0b5f8085-a972-4008-bb30-b28f85e31ca3",
   "metadata": {
    "tags": []
   },
   "source": [
    "# 1 Speed up Your Python Codes\n",
    "\n",
    "Python is one of the most popular programming languages among developers due to its community support, amazing libraries, wide usage in Machine Learning and Big Data, and easy syntax. However, as an interpreted language, Python has one significant drawback, which is its slow speed. \n",
    "\n",
    "## 1.1 Rules to speed up your Python codes\n",
    "\n",
    "- Decrease the use of `for loop`\n",
    "> this is the RULE NO.1.\n",
    "- Use the List Comprehensions\n",
    "> ```[i for i in range (1, 1000) if i%3 == 0]``` is faster than `for loop + append()` \n",
    "- Use the Built-In Functions\n",
    "> Such as ```map(), sum(), mean(), median(), max(), min()```\n",
    "- Function Calls Are Expensive\n",
    "> It is better to iterate inside a function than to iterate and call a function each iteration.\n",
    "- Use Numpy and Scipy\n",
    "> This is RULE NO.2. Search a solution in Numpy and Scipy first before you code it up.\n",
    "- Avoid Lazy Module Importing\n",
    ">```python\n",
    ">from math import sqrt # but not from math import *\n",
    ">val = sqrt(60)\n",
    ">```\n",
    "- Be Careful with Bulky Libraries\n",
    "> Reduce the number and size of dependencies, keep your code simple.\n",
    "- Avoid Global Variables\n",
    "> Local Variables lead to less memory usage and higher performance, it is simply best to avoid global variables when possible.\n",
    "- Adopt Proper Algorithms and Data Structures\n",
    "> - Algorithms are like science, while optimization is like technique. When the current technique can not take you to a galaxy far far away, try to find a worm whole.\n",
    "> - Data structure provides the right way to organize information in the digital space. Consider using `FITS`, `HDF5`, `Pandas`, and so on, before start your astronomical research."
   ]
  },
  {
   "cell_type": "markdown",
   "id": "ce9bb843-0b80-4157-a3fa-9f2d35bbf665",
   "metadata": {
    "tags": []
   },
   "source": [
    "# 1.2 Ways to Speed Up your Python code\n",
    "\n",
    "- Use Exsiting Packages: Numpy/Scipy/Numba\n",
    "- Python-C/C++/Fortran Integration\n",
    "- Mutiprocessing/MPI4py/Ctypes+OpenMP"
   ]
  },
  {
   "cell_type": "markdown",
   "id": "337c8ca7-ef02-4283-a26f-aa88d5d5fc3e",
   "metadata": {
    "tags": []
   },
   "source": [
    "# 2 Practice\n",
    "`Simpson Integration with Python`\n",
    "\n",
    "\\begin{equation}\n",
    "\\int^{x_{i+1}}_{x_{i-1}} f(x)~dx = \\frac{h}{3} \\left( f(x_{i−1})+4 f(x_i)+f(x_{i+1}) \\right)+O(h^5) \n",
    "\\end{equation}"
   ]
  },
  {
   "cell_type": "markdown",
   "id": "da0aff6e-1844-44cc-b215-06e3ca2a0a6f",
   "metadata": {
    "tags": []
   },
   "source": [
    "### 2.1 Basic Approaches (with Numpy, Scipy, and Numba)\n",
    "\n",
    "- Python Only"
   ]
  },
  {
   "cell_type": "code",
   "execution_count": 77,
   "id": "744a488c-d8a4-49d7-ad91-44173ce9315b",
   "metadata": {},
   "outputs": [
    {
     "name": "stdout",
     "output_type": "stream",
     "text": [
      "CPU times: user 27.7 s, sys: 147 ms, total: 27.9 s\n",
      "Wall time: 28 s\n"
     ]
    },
    {
     "data": {
      "text/plain": [
       "0.9999999999997551"
      ]
     },
     "execution_count": 77,
     "metadata": {},
     "output_type": "execute_result"
    }
   ],
   "source": [
    "%%time\n",
    "\n",
    "from math import sin, pi\n",
    "\n",
    "def func_python(x): \n",
    "    return sin(x)\n",
    "\n",
    "def simpson_python(f,a,b,N=100000000): # N show be even or odd?\n",
    "    dx = (b-a)/N\n",
    "    S = 0\n",
    "    for i in range(1, N, 2):\n",
    "        x_m1 = a+(i-1)*dx\n",
    "        x_i =  a+(i)*dx\n",
    "        x_p1 = a+(i+1)*dx\n",
    "        y_m1 = f(x_m1)\n",
    "        y_i = f(x_i)\n",
    "        y_p1 = f(x_p1)\n",
    "        S += dx/3 * (y_m1 + 4.0*y_i + y_p1)\n",
    "    return S\n",
    "\n",
    "simpson_python(func_python, 0.0, pi/2)"
   ]
  },
  {
   "cell_type": "markdown",
   "id": "a7066d79-66f7-4cb7-8543-964e8e697b43",
   "metadata": {
    "tags": []
   },
   "source": [
    "- Numpy Only"
   ]
  },
  {
   "cell_type": "code",
   "execution_count": 79,
   "id": "b8409408-3e71-4f16-9e76-900c4cfff657",
   "metadata": {},
   "outputs": [
    {
     "name": "stdout",
     "output_type": "stream",
     "text": [
      "CPU times: user 1.4 s, sys: 503 ms, total: 1.9 s\n",
      "Wall time: 1.91 s\n"
     ]
    },
    {
     "data": {
      "text/plain": [
       "0.9999999999999988"
      ]
     },
     "execution_count": 79,
     "metadata": {},
     "output_type": "execute_result"
    }
   ],
   "source": [
    "%%time\n",
    "\n",
    "import numpy as np\n",
    "\n",
    "def func_numpy(x): \n",
    "    return np.sin(x)\n",
    "\n",
    "def simpson_numpy(f,a,b,N=100000000):\n",
    "    dx = (b-a)/N\n",
    "    x = np.linspace(a,b,N+1)\n",
    "    y = f(x)\n",
    "    S = dx/3 * np.sum(y[0:-1:2] + 4*y[1::2] + y[2::2])\n",
    "    return S\n",
    "\n",
    "simpson_numpy(func_numpy, 0.0, np.pi/2)"
   ]
  },
  {
   "cell_type": "markdown",
   "id": "acac2433-e84e-45ac-ac78-77f3868c3c4e",
   "metadata": {
    "tags": []
   },
   "source": [
    "- Numpy + scipy.integrate.simps"
   ]
  },
  {
   "cell_type": "code",
   "execution_count": 82,
   "id": "925f2497-531e-42d5-917f-ff01f6c1eff6",
   "metadata": {},
   "outputs": [
    {
     "name": "stdout",
     "output_type": "stream",
     "text": [
      "0.9999999999999976\n",
      "CPU times: user 2.74 s, sys: 1.4 s, total: 4.14 s\n",
      "Wall time: 4.16 s\n"
     ]
    }
   ],
   "source": [
    "%%time\n",
    "\n",
    "# use arrays instead of calling functions\n",
    "import numpy as np\n",
    "\n",
    "N_arr = 100000001; # is this number even or odd? \n",
    "a_arr = 0.0; \n",
    "b_arr = np.pi/2;\n",
    "x_arr = np.linspace(a_arr, b_arr, N_arr)\n",
    "y_arr = func_numpy(x_arr)\n",
    "\n",
    "from scipy import integrate as spi\n",
    "\n",
    "print(spi.simps(y_arr, x_arr))"
   ]
  },
  {
   "cell_type": "markdown",
   "id": "f985e4a6-89a3-45e7-b0d2-cb397f41f535",
   "metadata": {},
   "source": [
    "* Numpy + Numpy"
   ]
  },
  {
   "cell_type": "code",
   "execution_count": 83,
   "id": "01ff265b-50bb-4195-9523-52c576a25e60",
   "metadata": {},
   "outputs": [
    {
     "name": "stdout",
     "output_type": "stream",
     "text": [
      "0.9999999999999988\n",
      "CPU times: user 1.46 s, sys: 441 ms, total: 1.9 s\n",
      "Wall time: 1.9 s\n"
     ]
    }
   ],
   "source": [
    "%%time\n",
    "\n",
    "import numpy as np\n",
    "\n",
    "N_arr = 100000001;\n",
    "a_arr = 0.0; \n",
    "b_arr = np.pi/2;\n",
    "x_arr = np.linspace(a_arr, b_arr, N_arr)\n",
    "y_arr = func_numpy(x_arr)\n",
    "\n",
    "def simpson_numpy_arr(y, x):\n",
    "    S = (x[1]-x[0])/3 * np.sum(y[0:-1:2] + 4*y[1::2] + y[2::2])\n",
    "    return S\n",
    "\n",
    "print(simpson_numpy_arr(y_arr, x_arr))"
   ]
  },
  {
   "cell_type": "markdown",
   "id": "260fcd0f-978a-4cff-aa73-b8df334f02ff",
   "metadata": {},
   "source": [
    "- Numpy + Numba"
   ]
  },
  {
   "cell_type": "code",
   "execution_count": 84,
   "id": "90d7b911-0164-41ba-8b90-94dbadce4c51",
   "metadata": {},
   "outputs": [
    {
     "name": "stdout",
     "output_type": "stream",
     "text": [
      "0.9999999999997551\n",
      "CPU times: user 1.29 s, sys: 364 ms, total: 1.66 s\n",
      "Wall time: 1.66 s\n"
     ]
    }
   ],
   "source": [
    "%%time\n",
    "\n",
    "import numpy as np\n",
    "\n",
    "N_arr = 100000001;\n",
    "a_arr = 0.0; \n",
    "b_arr = np.pi/2;\n",
    "x_arr = np.linspace(a_arr, b_arr, N_arr)\n",
    "y_arr = func_numpy(x_arr)\n",
    "\n",
    "from numba import jit\n",
    "\n",
    "@jit(nopython=True)\n",
    "def simpson_numba(y, x):\n",
    "    N = len(x)\n",
    "    dx = x[1] - x[0]\n",
    "    S = 0\n",
    "    for i in range(1, N, 2):\n",
    "        S += dx/3 * (y[i-1] + 4.0*y[i] + y[i+1])\n",
    "    return S\n",
    "\n",
    "print(simpson_numba(y_arr, x_arr))"
   ]
  },
  {
   "cell_type": "markdown",
   "id": "6dbf4b2e-c88c-4754-88b8-57d33e65d05a",
   "metadata": {},
   "source": [
    "***The fastest way is `Numpy + Numba`, but the easiest way is `Numpy + Numpy`***"
   ]
  },
  {
   "cell_type": "markdown",
   "id": "9e348aa4-fb96-43e8-b9ca-97dcf38d1c8b",
   "metadata": {
    "tags": []
   },
   "source": [
    "### 2.2 Advanced Approaches (with C-integrations and OpenMP)\n",
    "\n",
    "- Ctypes in Python\n",
    "    1. compose a standard C code\n",
    "        ```C\n",
    "            #include <stdio.h>\n",
    "\n",
    "            double simpson_c(double * y, double * x, long N)\n",
    "            {\n",
    "                double dx = x[1] - x[0];\n",
    "                double S = 0.0;\n",
    "                long i;\n",
    "                for (i=0;i<N;i+=2)\n",
    "                {\n",
    "                    S += dx/3. * (y[i] + 4.0*y[i+1] + y[i+2]);\n",
    "                }\n",
    "                return S;\n",
    "            }\n",
    "        ```\n",
    "    2. compile it to a shared library\n",
    "        ```bash\n",
    "        $ gcc-11 -O2 --shared example.c -o example.so -Wall\n",
    "        ```\n",
    "    3. import `ctypes` and load the C library\n",
    "    4. create a \"header\" for the C function\n",
    "    5. create a Python function for the C function"
   ]
  },
  {
   "cell_type": "code",
   "execution_count": 85,
   "id": "ae3b84e4-11ee-497f-99db-507487a1235f",
   "metadata": {},
   "outputs": [],
   "source": [
    "# import ctypes and load the C library\n",
    "import ctypes as ct\n",
    "ctypes_example = ct.CDLL(\"./example.so\")"
   ]
  },
  {
   "cell_type": "code",
   "execution_count": 86,
   "id": "43fdd45b-f9c3-4f13-8b84-8ad243d8ef67",
   "metadata": {},
   "outputs": [],
   "source": [
    "# create a \"header\" for the C function\n",
    "ctypes_example.simpson_c.argtypes = [np.ctypeslib.ndpointer(dtype = ct.c_double), \\\n",
    "                                     np.ctypeslib.ndpointer(dtype = ct.c_double), \\\n",
    "                                     ct.c_long]\n",
    "ctypes_example.simpson_c.restype  = ct.c_double\n",
    "\n",
    "# create a Python function for the C function\n",
    "def call_simpson_c(y, x):\n",
    "    N_in = ct.c_long(len(x))\n",
    "    y_in = np.array(y, dtype=ct.c_double)\n",
    "    x_in = np.array(x, dtype=ct.c_double)\n",
    "    res = ctypes_example.simpson_c(y_in, x_in, N_in)\n",
    "    return res"
   ]
  },
  {
   "cell_type": "code",
   "execution_count": 87,
   "id": "436760bd-746b-407a-8a1f-e40c74bf77b2",
   "metadata": {},
   "outputs": [
    {
     "name": "stdout",
     "output_type": "stream",
     "text": [
      "1.000000005235743\n",
      "CPU times: user 494 ms, sys: 422 ms, total: 915 ms\n",
      "Wall time: 919 ms\n"
     ]
    }
   ],
   "source": [
    "%%time\n",
    "\n",
    "print(call_simpson_c(y_arr, x_arr))"
   ]
  },
  {
   "cell_type": "markdown",
   "id": "04d88112-1166-45df-af14-606335061bb4",
   "metadata": {
    "tags": []
   },
   "source": [
    "- Ctypes in Python with OpenMP\n",
    "    1. compose a standard C code\n",
    "        ```C\n",
    "            #include <stdio.h>\n",
    "            #include <omp.h>\n",
    "\n",
    "            double simpson_c_omp(double * y, double * x, long N, int nThreads)\n",
    "            {\n",
    "                double dx = x[1] - x[0];\n",
    "                double S;\n",
    "                S = 0.0;\n",
    "                long i;\n",
    "                #pragma omp parallel \\\n",
    "                num_threads(nThreads) \\\n",
    "                shared(y, x, dx, N, S) \\\n",
    "                private(i)\n",
    "                {\n",
    "                    double partial_S = 0.0;\n",
    "                    #pragma omp for\n",
    "                    for (i=0;i<(N-1)/2;i++)\n",
    "                    {\n",
    "                        partial_S += dx/3. * (y[2*i] + 4.0*y[2*i+1] + y[2*i+2]);\n",
    "                    }\n",
    "                    #pragma omp critical\n",
    "                    S += partial_S;\n",
    "                }\n",
    "                return S;\n",
    "            }\n",
    "        ```\n",
    "    2. compile it to a shared library\n",
    "        ```bash\n",
    "        $ gcc-11 -O2 --shared example.c -o example.so -Wall -fopenmp\n",
    "        ```\n",
    "    3. import `ctypes` and load the C library \n",
    "    4. create a \"header\" for the C function\n",
    "    5. create a Python function for the C function"
   ]
  },
  {
   "cell_type": "code",
   "execution_count": 88,
   "id": "a9893f4b-ad5a-4f39-8882-fd234df765a7",
   "metadata": {},
   "outputs": [],
   "source": [
    "# import ctypes and load the C library\n",
    "import ctypes as ct\n",
    "ctypes_example = ct.CDLL(\"./example.so\")"
   ]
  },
  {
   "cell_type": "code",
   "execution_count": 89,
   "id": "41b3ad31-b004-49bc-a9bd-caa07fffdf44",
   "metadata": {},
   "outputs": [],
   "source": [
    "# create a \"header\" for the C function\n",
    "ctypes_example.simpson_c_omp.argtypes = [np.ctypeslib.ndpointer(dtype = ct.c_double), \\\n",
    "                                         np.ctypeslib.ndpointer(dtype = ct.c_double), \\\n",
    "                                         ct.c_long, ct.c_int]\n",
    "ctypes_example.simpson_c_omp.restype  = ct.c_double\n",
    "# create a Python function for the C function\n",
    "def call_simpson_c_omp(y, x, nThreads=4):\n",
    "    N_in = ct.c_long(len(x))\n",
    "    y_in = np.array(y, dtype=ct.c_double)\n",
    "    x_in = np.array(x, dtype=ct.c_double)\n",
    "    nThreads_in = ct.c_int(nThreads)\n",
    "    res = ctypes_example.simpson_c_omp(y_in, x_in, N_in, nThreads_in)\n",
    "    return res"
   ]
  },
  {
   "cell_type": "code",
   "execution_count": 90,
   "id": "bf5f0274-1eb1-4221-a2df-8bfab35064bd",
   "metadata": {},
   "outputs": [
    {
     "name": "stdout",
     "output_type": "stream",
     "text": [
      "1.0000000000000182\n",
      "CPU times: user 693 ms, sys: 413 ms, total: 1.11 s\n",
      "Wall time: 861 ms\n"
     ]
    }
   ],
   "source": [
    "%%time\n",
    "\n",
    "print(call_simpson_c_omp(y_arr, x_arr, nThreads=8))"
   ]
  },
  {
   "cell_type": "markdown",
   "id": "6626ff8b-641a-418b-b61a-700da466c638",
   "metadata": {},
   "source": [
    "<font size='10' color='red'>However, at last, one way beyond them all...so please keep RULE NO.2 in mind</font> "
   ]
  },
  {
   "cell_type": "code",
   "execution_count": 92,
   "id": "ddf7a669-9bc8-45f8-9c4a-1c053bc366fa",
   "metadata": {},
   "outputs": [
    {
     "name": "stdout",
     "output_type": "stream",
     "text": [
      "CPU times: user 88 µs, sys: 2 µs, total: 90 µs\n",
      "Wall time: 95.1 µs\n"
     ]
    },
    {
     "data": {
      "text/plain": [
       "(0.9999999999999999, 1.1102230246251564e-14)"
      ]
     },
     "execution_count": 92,
     "metadata": {},
     "output_type": "execute_result"
    }
   ],
   "source": [
    "%%time\n",
    "\n",
    "import numpy as np\n",
    "from scipy import integrate as spi\n",
    "spi.quad(np.sin, 0, np.pi/2)"
   ]
  },
  {
   "cell_type": "markdown",
   "id": "724f85de-f729-4323-b059-9031c0e98721",
   "metadata": {
    "tags": []
   },
   "source": [
    "### * 2.3 Superior Approaches (with Multiprocessing and MPI4py)\n",
    "\n",
    "1. Multiprocessing (https://docs.python.org/3/library/multiprocessing.html)\n",
    "2. MPI4py (https://mpi4py.readthedocs.io/en/stable/)\n",
    "3. Other fancy approaches:\n",
    "    - pyCuda (https://documen.tician.de/pycuda/)\n",
    "    - pyOpenCL (https://documen.tician.de/pyopencl/)\n",
    "    - Numba (Pro) (http://numba.pydata.org/)"
   ]
  },
  {
   "cell_type": "markdown",
   "id": "62fc87bd-8514-4fc9-81d0-66dfdc664071",
   "metadata": {},
   "source": [
    "### Multiprocessing Example 1\n",
    "\n",
    "```python\n",
    "import numpy as np                                                                              \n",
    "from multiprocessing import Pool, cpu_count\n",
    " \n",
    "def monte_carlo_pi_part(n):\n",
    "    count = 0\n",
    "    for i in range(int(n)):\n",
    "        x=np.random.random()\n",
    "        y=np.random.random()\n",
    "        if x*x + y*y <= 1:\n",
    "            count=count+1\n",
    "    return count\n",
    "\n",
    "if __name__ == '__main__':\n",
    "    cores = 4\n",
    "    print('You have %d CPUs, and you use %d cores for the calculation'%(cpu_count(), cores))\n",
    "    n = 10000000\n",
    "    part_count=[n/cores for i in range(cores)] # not accurate, can you improve it?\n",
    "    with Pool(cores) as p:\n",
    "        count=p.map(monte_carlo_pi_part, part_count)\n",
    " \n",
    "    print(\"Esitmated value of Pi:: \", sum(count)/(n*1.0)*4  )\n",
    "```"
   ]
  },
  {
   "cell_type": "markdown",
   "id": "43126849-1420-44aa-a184-d2eccbc5c1bf",
   "metadata": {},
   "source": [
    "### Multiprocessing Example 2\n",
    "\n",
    "```python\n",
    "import numpy as np\n",
    "from multiprocessing import Pool\n",
    "                 \n",
    "def simpson_tmp_arr(data_pairs):\n",
    "    y = data_pairs[0]\n",
    "    x = data_pairs[1]\n",
    "    N = int(len(y))\n",
    "    dx = x[1] - x[0]\n",
    "    S = 0        \n",
    "    for i in range(1, N, 2):\n",
    "        S += dx/3 * (y[i-1] + 4.0*y[i] + y[i+1])\n",
    "    return S     \n",
    "                 \n",
    "if __name__ == '__main__':\n",
    "    N_arr = 100000004; # how to define this number properly?\n",
    "    a_arr = 0.0; \n",
    "    b_arr = np.pi/2;\n",
    "    x_arr = np.linspace(a_arr, b_arr, N_arr)\n",
    "    y_arr = np.sin(x_arr)\n",
    "                 \n",
    "    cores = 4    \n",
    "                 \n",
    "    y_parts = np.array_split(y_arr, cores)\n",
    "    x_parts = np.array_split(x_arr, cores)\n",
    "                 \n",
    "    pairs_parts = [[y_i, x_i] for [y_i, x_i] in zip(y_parts, x_parts)]\n",
    "                 \n",
    "    with Pool(cores) as p:\n",
    "        parts = p.map(simpson_tmp_arr, pairs_parts)\n",
    "                 \n",
    "    print(\"Result = %.20f\"%(np.sum(parts)))  \n",
    "```"
   ]
  },
  {
   "cell_type": "markdown",
   "id": "447faed2-0892-4c68-aec1-04a7ceb3209c",
   "metadata": {},
   "source": [
    "### Mpi4py Example 1\n",
    "\n",
    ">```bash\n",
    ">(base) [nanli@tulip ~]$ time mpirun -np 4 python mpi4py_integrate_arrays.py\n",
    ">\n",
    ">With n =  100000001 bins, \n",
    ">integral of sine(x) from 0.0 to 1.5707963267948966 = 1.0000000000000338 \n",
    ">real    0m13.090s\n",
    ">user    0m48.931s\n",
    ">sys     0m2.418s\n",
    ">```\n",
    "\n",
    "```python\n",
    "import numpy as np\n",
    "\n",
    "def simpson_local_arr(y, x, i_start, i_end):\n",
    "    dx = x[1] - x[0]\n",
    "    S = 0\n",
    "    if i_end >= len(x):\n",
    "        i_end = int(len(x))\n",
    "    for i in range(i_start, i_end, 2):\n",
    "        S += dx/3 * (y[i-1] + 4.0*y[i] + y[i+1])\n",
    "    return S\n",
    "\n",
    "from mpi4py import MPI\n",
    "if __name__ == '__main__':\n",
    "    comm = MPI.COMM_WORLD\n",
    "    rank = comm.Get_rank()\n",
    "    size = comm.Get_size()\n",
    "\n",
    "    dest=0\n",
    "    total=-1.0\n",
    "\n",
    "    N_arr = 100000001; # is this number even or odd? \n",
    "    a_arr = 0.0; \n",
    "    b_arr = np.pi/2;\n",
    "    x_arr = np.linspace(a_arr, b_arr, N_arr)\n",
    "    y_arr = np.sin(x_arr)\n",
    "\n",
    "    local_n = int(N_arr/size)\n",
    "    i_s = 1+rank*local_n\n",
    "    i_e = i_s + local_n\n",
    "    \n",
    "    integral = simpson_local_arr(y_arr, x_arr, i_s, i_e)\n",
    "\n",
    "    if rank == 0:\n",
    "        total = integral\n",
    "        for source in range(1,size):\n",
    "            integral = comm.recv(source=source)\n",
    "            print(\"PE \", rank, \"<-\", source, \",\", integral, \"\\n\")\n",
    "            total = total + integral\n",
    "    else:\n",
    "        print(\"PE \", rank, \"->\", dest, \",\", integral, \"\\n\")\n",
    "        comm.send(integral, dest=0)\n",
    "\n",
    "    if (rank == 0):\n",
    "        print(\"\\n\")\n",
    "        print(\"With n = \", N_arr, \"bins, \\n\")\n",
    "        print(\"integral of sine(x) from\", a_arr, \"to\", b_arr, \"=\", total, \"\\n\")\n",
    "    MPI.Finalize\n",
    "```"
   ]
  },
  {
   "cell_type": "markdown",
   "id": "fe2bfe49-760b-49be-94c9-a5d204d33f7c",
   "metadata": {
    "tags": []
   },
   "source": [
    "### Mpi4py Example 2\n",
    ">\n",
    ">```bash\n",
    ">(base) [nanli@tulip ~]$ time mpirun -np 4 python mpi4py_Sum_arrays.py \n",
    ">\n",
    ">S =  [1.00000001]\n",
    ">\n",
    ">real    0m22.751s\n",
    ">user    1m24.098s\n",
    ">sys     0m5.683s\n",
    ">```\n",
    ">\n",
    "\n",
    "```python\n",
    "import numpy as np\n",
    "\n",
    "def simpson_local_arr(y, x, i_start, i_end):\n",
    "    dx = x[1] - x[0]\n",
    "    S = 0\n",
    "    if i_end >= len(x):\n",
    "        i_end = int(len(x))\n",
    "    for i in range(i_start, i_end, 2):\n",
    "        S += dx/3 * (y[i-1] + 4.0*y[i] + y[i+1])\n",
    "    return S\n",
    "\n",
    "from mpi4py import MPI\n",
    "if __name__ == '__main__':\n",
    "    comm = MPI.COMM_WORLD\n",
    "    rank = comm.Get_rank()\n",
    "    size = comm.Get_size()\n",
    "    \n",
    "    dest=0\n",
    "    total=-1.0\n",
    "\n",
    "    N_arr = 100000001; # is this number even or odd? \n",
    "    a_arr = 0.0; \n",
    "    b_arr = np.pi/2;\n",
    "    x_arr = np.linspace(a_arr, b_arr, N_arr)\n",
    "    y_arr = np.sin(x_arr)\n",
    "\n",
    "    comm.Bcast([y_arr, MPI.DOUBLE], root=0)\n",
    "    comm.Bcast([x_arr, MPI.DOUBLE], root=0)\n",
    "\n",
    "    if rank == 0:\n",
    "        sendbuf = np.arange(N_arr)\n",
    "        ave, res = divmod(len(sendbuf), size)\n",
    "        count = [ave + 1 if p < res else ave for p in range(size)]\n",
    "        count = np.array(count)\n",
    "        displ = [sum(count[:p]) for p in range(size)]\n",
    "        displ = np.array(displ)\n",
    "    else:\n",
    "        sendbuf = None\n",
    "        count = np.zeros(size, dtype=int)\n",
    "        displ = np.zeros(size, dtype=int)\n",
    "    comm.Bcast(count, root=0)\n",
    "    comm.Bcast(displ, root=0)\n",
    "    recvbuf = np.zeros(count[rank])\n",
    "    comm.Scatterv([sendbuf, count, displ, MPI.DOUBLE], recvbuf, root=0)\n",
    "    \n",
    "    S_loc = np.array([0.0])\n",
    "    comm.Bcast([S_loc, MPI.DOUBLE], root=0)    \n",
    "    i_s = displ[rank]\n",
    "    i_e = displ[rank]+count[rank]\n",
    "    S_loc[0] = simpson_local_arr(y_arr, x_arr, i_s, i_e)\n",
    "    comm.Barrier()\n",
    "    \n",
    "    if rank==0:\n",
    "        S_tot = np.array([0.0])\n",
    "    else:\n",
    "        S_tot = None\n",
    "\n",
    "    comm.Reduce(\n",
    "        [S_loc, MPI.DOUBLE],\n",
    "        [S_tot, MPI.DOUBLE],\n",
    "        op=MPI.SUM,\n",
    "        root=0)\n",
    "\n",
    "    if rank==0:\n",
    "        print(\"S = \", S_tot)\n",
    "```\n"
   ]
  }
 ],
 "metadata": {
  "kernelspec": {
   "display_name": "Python 3 (ipykernel)",
   "language": "python",
   "name": "python3"
  },
  "language_info": {
   "codemirror_mode": {
    "name": "ipython",
    "version": 3
   },
   "file_extension": ".py",
   "mimetype": "text/x-python",
   "name": "python",
   "nbconvert_exporter": "python",
   "pygments_lexer": "ipython3",
   "version": "3.8.11"
  }
 },
 "nbformat": 4,
 "nbformat_minor": 5
}
